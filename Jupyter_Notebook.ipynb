{
  "metadata": {
    "kernelspec": {
      "name": "python",
      "display_name": "Pyolite",
      "language": "python"
    },
    "language_info": {
      "codemirror_mode": {
        "name": "ipython",
        "version": 3
      },
      "file_extension": ".py",
      "mimetype": "text/x-python",
      "name": "python",
      "nbconvert_exporter": "python",
      "pygments_lexer": "ipython3",
      "version": "3.7.6"
    }
  },
  "nbformat_minor": 4,
  "nbformat": 4,
  "cells": [
    {
      "cell_type": "markdown",
      "source": "<center>\n    <img src=\"https://cf-courses-data.s3.us.cloud-object-storage.appdomain.cloud/IBMDeveloperSkillsNetwork-DS0105EN-SkillsNetwork/labs/Module2/images/SN_web_lightmode.png\" width=\"300\" alt=\"cognitiveclass.ai logo\"  />\n</center>\n",
      "metadata": {}
    },
    {
      "cell_type": "markdown",
      "source": "#### Add your code below following the instructions given in the course\n",
      "metadata": {}
    },
    {
      "cell_type": "markdown",
      "source": "# My Jupyter Notebook on IBM Watson Studio",
      "metadata": {}
    },
    {
      "cell_type": "markdown",
      "source": "**Bello Samuel**   \n  Data Scientist",
      "metadata": {}
    },
    {
      "cell_type": "markdown",
      "source": "*I am interested in data science because i like discovering hidden stories in data and solving problems*  \n  *I am interested in data science because it is good for leaning more about patterns and habits in life and business*",
      "metadata": {}
    },
    {
      "cell_type": "markdown",
      "source": "### My next code is for simple addition of 1 plus 1 to give 2",
      "metadata": {}
    },
    {
      "cell_type": "code",
      "source": "print ('Simple Addition Code of 1+1 to give 2')\n1+1",
      "metadata": {
        "trusted": true
      },
      "execution_count": 4,
      "outputs": [
        {
          "name": "stdout",
          "text": "Simple Addition Code of 1+1 to give 2\n",
          "output_type": "stream"
        },
        {
          "execution_count": 4,
          "output_type": "execute_result",
          "data": {
            "text/plain": "2"
          },
          "metadata": {}
        }
      ]
    },
    {
      "cell_type": "markdown",
      "source": "[I'm an inline-style link](https://www.google.com)",
      "metadata": {}
    },
    {
      "cell_type": "markdown",
      "source": "[i'm an inline link with a title](www.google.com \"Google Homepage\")",
      "metadata": {}
    },
    {
      "cell_type": "markdown",
      "source": "[I'm a relative reference to a repository file](../blob/master/LICENSE)",
      "metadata": {}
    },
    {
      "cell_type": "markdown",
      "source": "Three or more...\n\n---\nHyphens\n***\nAsterisks\n___\nUnderscores",
      "metadata": {}
    },
    {
      "cell_type": "markdown",
      "source": "\nI am happy.   \nVery very happy\n\nWe are happy.\n\nVery very happy.",
      "metadata": {}
    },
    {
      "cell_type": "markdown",
      "source": "![alt text](https://github.com/adam-p/markdown-here/raw/master/src/common/images/icon48.png \"Logo Title Text 1\")\n",
      "metadata": {}
    },
    {
      "cell_type": "code",
      "source": "",
      "metadata": {},
      "execution_count": null,
      "outputs": []
    }
  ]
}